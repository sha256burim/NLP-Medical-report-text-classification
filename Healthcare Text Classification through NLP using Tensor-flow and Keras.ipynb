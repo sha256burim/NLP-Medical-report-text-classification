{
 "cells": [
  {
   "cell_type": "markdown",
   "metadata": {},
   "source": [
    "# Healthcare Text Classification through NLP using Tensor-flow and Keras Part 1.\n",
    "\n",
    "## Introduction\n",
    "\n",
    "The healthcare industry produces and stores large qunatities of data on a daily basis. The amounts and type of data vary greatly in size and type, therefore often the data is unsorted, uncategorized and the content data is unclean. This poses great difficulties when trying to work with the data and doing cleaning for analysis. In this case, a neural net based text classification program would greatly benefit into categorizing data into different groups. Fast tracking different analytics processes and making retrieval easier. \n",
    "\n",
    "In this notebook I am going to build a simple neural net based on natural language processing concepts, using google's Tensorflow and the Keras library to build and train a neural network, based on a data-model from Doctor reports. \n",
    "\n",
    "The purpose is to classify these reports to different Hospital departments, or disease descriptions based on the report given by the doctor or nurse, in order to make data cleaning easier. Furthemore this model can be used for data cleaning through transfer-learning and included into an automated cleansing-script. \n",
    "\n",
    "In the future, this data model can be used and paired with OCR technology to convert legacy or unsupported filetypes, or capture data from incompatible healthcare data-sharing systems. \n",
    "\n",
    "The dataset we are using was scraped from https://www.mtsamples.com/, which hosts collection of transcribed medical transcription sample reports and examples. \n",
    "\n",
    "### Exploring NLP Text Classification of Healthcare data\n",
    "\n",
    "The NLP application of the posed problem in this notebook will be demonstrating text classification. Here we will explore categorizing medical text documents into one of a predefined set of topics/labels. In many topic classification problems, this categorization is based primarily on keywords in the text. \n",
    "\n",
    "The steps we are going to take are as follows: \n",
    "\n",
    "1. Gathering Data\n",
    "2. Exploring and Cleaning the data\n",
    "3. Picking a Model\n",
    "4. Preparing the Data\n",
    "5. Buildinging, Trainging, and Evaluating the Model\n",
    "6. Deploying the Model\n"
   ]
  },
  {
   "cell_type": "markdown",
   "metadata": {},
   "source": [
    "### Loading the Data"
   ]
  },
  {
   "cell_type": "code",
   "execution_count": 1,
   "metadata": {
    "scrolled": true
   },
   "outputs": [
    {
     "name": "stdout",
     "output_type": "stream",
     "text": [
      "['.ipynb_checkpoints', 'aclImdb', 'aclImdb_v1.tar.gz', 'archive.zip', 'batch_train_sequence_model.py', 'build_model.py', 'CONTRIBUTING.md', 'eng-edu', 'explore_data.py', 'Healthcare Text Classification through NLP using Tensor-flow and Keras.ipynb', 'httpsmtsamples(dot)com.txt', 'integration_test.py', 'LICENSE', 'load_data.py', 'mtsamples.csv', 'README.md', 'text_classification', 'train_fine_tuned_sequence_model.py', 'train_ngram_model.py', 'train_sequence_model.py', 'tune_ngram_model.py', 'vectorize_data.py', 'Where i found the dataset.txt']\n"
     ]
    }
   ],
   "source": [
    "#Loading the dataset into numpy arrays as training labels and training texts \n",
    "\n",
    "#Usually the data that we have to train with will come in some form of a parsed\n",
    "# .txt file format. For that refer to the MLCC text clasiffication guide on Tensorflow hub\n",
    "# If working with .txt files you will have to parse the text into numpy arrays, here we are directly converting\n",
    "# from pandas dataframes into numpy arrays. \n",
    "\n",
    "%matplotlib inline\n",
    "import numpy as np\n",
    "import pandas as pd\n",
    "import matplotlib.pyplot as plt\n",
    "import seaborn as sns\n",
    "\n",
    "import os\n",
    "import warnings\n",
    "\n",
    "df=pd.read_csv('mtsamples.csv')\n",
    "#since we're dealing with a csv file, and we don't really have any validation data\n",
    "#we're going to just use our test data as our validation data, which usually is a no-no but\n",
    "#it suffices for demonstrational purposes. \n",
    "\n",
    "print(os.listdir())\n",
    "\n",
    "warnings.filterwarnings('ignore')\n"
   ]
  },
  {
   "cell_type": "code",
   "execution_count": 2,
   "metadata": {},
   "outputs": [
    {
     "data": {
      "text/plain": [
       "Unnamed: 0            int64\n",
       "description          object\n",
       "medical_specialty    object\n",
       "sample_name          object\n",
       "transcription        object\n",
       "keywords             object\n",
       "dtype: object"
      ]
     },
     "execution_count": 2,
     "metadata": {},
     "output_type": "execute_result"
    }
   ],
   "source": [
    "#Checking for the datatypes\n",
    "df.dtypes"
   ]
  },
  {
   "cell_type": "code",
   "execution_count": 3,
   "metadata": {},
   "outputs": [
    {
     "data": {
      "text/plain": [
       "0           Allergy / Immunology\n",
       "1                     Bariatrics\n",
       "2                     Bariatrics\n",
       "3     Cardiovascular / Pulmonary\n",
       "4     Cardiovascular / Pulmonary\n",
       "5                     Bariatrics\n",
       "6                     Bariatrics\n",
       "7     Cardiovascular / Pulmonary\n",
       "8                     Bariatrics\n",
       "9     Cardiovascular / Pulmonary\n",
       "Name: medical_specialty, dtype: object"
      ]
     },
     "execution_count": 3,
     "metadata": {},
     "output_type": "execute_result"
    }
   ],
   "source": [
    "#getting our labels first, which will be in the medical_specialy group\n",
    "\n",
    "df_labels = df['medical_specialty']\n",
    "df_labels.head(10)"
   ]
  },
  {
   "cell_type": "code",
   "execution_count": 4,
   "metadata": {},
   "outputs": [
    {
     "data": {
      "text/plain": [
       "' IME-QME-Work Comp etc.'"
      ]
     },
     "execution_count": 4,
     "metadata": {},
     "output_type": "execute_result"
    }
   ],
   "source": [
    "#checking to see other non-alphanumeric characters\n",
    "df_labels.loc[3107]"
   ]
  },
  {
   "cell_type": "code",
   "execution_count": 5,
   "metadata": {},
   "outputs": [
    {
     "data": {
      "text/plain": [
       "0          allergyimmunology\n",
       "1                 bariatrics\n",
       "2                 bariatrics\n",
       "3    cardiovascularpulmonary\n",
       "4    cardiovascularpulmonary\n",
       "5                 bariatrics\n",
       "6                 bariatrics\n",
       "7    cardiovascularpulmonary\n",
       "8                 bariatrics\n",
       "9    cardiovascularpulmonary\n",
       "Name: medical_specialty, dtype: object"
      ]
     },
     "execution_count": 5,
     "metadata": {},
     "output_type": "execute_result"
    }
   ],
   "source": [
    "import re\n",
    "\n",
    "#doing some prefiltering\n",
    "regex_pattern_alphanumeric = re.compile(r'[^a-zA-Z0-9\\n\\.]', flags=re.IGNORECASE)\n",
    "regex_pattern_numbers = re.compile(r'[0-9]', flags=re.IGNORECASE)\n",
    "\n",
    "df_labels = df_labels.str.replace(regex_pattern_alphanumeric, ' ')\n",
    "df_labels = df_labels.str.replace(regex_pattern_numbers, ' ')\n",
    "df_labels= df_labels.str.lower()\n",
    "\n",
    "#We also see that the word \"etc.\" needs to be removed\n",
    "df_labels = df_labels.str.replace('etc', '') #We replace it with an empty str\n",
    "\n",
    "#Since the langth of our labels will not matter and is only our classifier,\n",
    "#We can go ahead and remove spaces, therefore joinging all the words. \n",
    "df_labels = df_labels.str.replace(' ', '')\n",
    "\n",
    "df_labels.head(10)"
   ]
  },
  {
   "cell_type": "markdown",
   "metadata": {},
   "source": [
    "Now the labels data looks a lot more digestible to a computer. "
   ]
  },
  {
   "cell_type": "code",
   "execution_count": 6,
   "metadata": {},
   "outputs": [
    {
     "data": {
      "text/plain": [
       "0    SUBJECTIVE:,  This 23-year-old white female pr...\n",
       "1    PAST MEDICAL HISTORY:, He has difficulty climb...\n",
       "2    HISTORY OF PRESENT ILLNESS: , I have seen ABC ...\n",
       "3    2-D M-MODE: , ,1.  Left atrial enlargement wit...\n",
       "4    1.  The left ventricular cavity size and wall ...\n",
       "5    PREOPERATIVE DIAGNOSIS: , Morbid obesity.,POST...\n",
       "6    PREOPERATIVE DIAGNOSES:,1.  Deformity, right b...\n",
       "7    2-D ECHOCARDIOGRAM,Multiple views of the heart...\n",
       "8    PREOPERATIVE DIAGNOSIS: , Lipodystrophy of the...\n",
       "9    DESCRIPTION:,1.  Normal cardiac chambers size....\n",
       "Name: transcription, dtype: object"
      ]
     },
     "execution_count": 6,
     "metadata": {},
     "output_type": "execute_result"
    }
   ],
   "source": [
    "#getting the the text portion\n",
    "\n",
    "df_texts = df['transcription']\n",
    "df_texts.head(10)"
   ]
  },
  {
   "cell_type": "markdown",
   "metadata": {},
   "source": [
    "Here we see that the text data is very unclean and requires intensive cleaning before we do anything else with it. While we are going to apply a tensorflow_hub model as the first layer of the neural net to it, to vectorize the sentences and words, we are going to preform some text cleaning to remove numbers, punctuation, symbols and uncapitalize words"
   ]
  },
  {
   "cell_type": "code",
   "execution_count": 7,
   "metadata": {},
   "outputs": [
    {
     "data": {
      "text/plain": [
       "0    subjective    this    year old white female pr...\n",
       "1    past medical history   he has difficulty climb...\n",
       "2    history of present illness    i have seen abc ...\n",
       "3      d m mode      .  left atrial enlargement wit...\n",
       "4     .  the left ventricular cavity size and wall ...\n",
       "5    preoperative diagnosis    morbid obesity. post...\n",
       "6    preoperative diagnoses   .  deformity  right b...\n",
       "7      d echocardiogram multiple views of the heart...\n",
       "8    preoperative diagnosis    lipodystrophy of the...\n",
       "9    description   .  normal cardiac chambers size....\n",
       "Name: transcription, dtype: object"
      ]
     },
     "execution_count": 7,
     "metadata": {},
     "output_type": "execute_result"
    }
   ],
   "source": [
    "df_texts = df_texts.str.replace(regex_pattern_alphanumeric, ' ')\n",
    "df_texts = df_texts.str.replace(regex_pattern_numbers, ' ')\n",
    "df_texts = df_texts.str.lower()\n",
    "\n",
    "df_texts.head(10)\n"
   ]
  },
  {
   "cell_type": "code",
   "execution_count": 8,
   "metadata": {},
   "outputs": [
    {
     "data": {
      "text/plain": [
       "0    subjective this year old white female presents...\n",
       "1    past medical history he has difficulty climbin...\n",
       "2    history of present illness i have seen abc tod...\n",
       "3     d m mode left atrial enlargement with left at...\n",
       "4     the left ventricular cavity size and wall thi...\n",
       "5    preoperative diagnosis morbid obesity postoper...\n",
       "6    preoperative diagnoses deformity right breast ...\n",
       "7     d echocardiogram multiple views of the heart ...\n",
       "8    preoperative diagnosis lipodystrophy of the ab...\n",
       "9    description normal cardiac chambers size norma...\n",
       "Name: transcription, dtype: object"
      ]
     },
     "execution_count": 8,
     "metadata": {},
     "output_type": "execute_result"
    }
   ],
   "source": [
    "#Remove the leftover periods in the text\n",
    "df_texts = df_texts.str.replace('.', ' ')\n",
    "\n",
    "#Remove any double or multiple spaces between words\n",
    "df_texts = df_texts.str.replace('\\s+', ' ', regex=True)\n",
    "\n",
    "#check the df\n",
    "df_texts.head(10)"
   ]
  },
  {
   "cell_type": "markdown",
   "metadata": {},
   "source": [
    "Now that our data looks more managable we can go ahead with the other step in the process. And even though we have some leading whitespaces in some of the rows, this should not be that much of a problem. Emphasis on \"shouldnt\""
   ]
  },
  {
   "cell_type": "code",
   "execution_count": 9,
   "metadata": {},
   "outputs": [],
   "source": [
    "import random \n",
    "\n",
    "#We make sure to convert the 'object' dtype dataframes to 'str' dtype dataframes. \n",
    "\n",
    "df_labels = df_labels.astype('|S')\n",
    "df_texts = df_texts.astype('|S')\n",
    "\n",
    "#we initialize two training numpy arrays and pass the dataframes to them\n",
    "\n",
    "train_labels = df_labels.to_numpy()\n",
    "train_texts = df_texts.to_numpy()\n",
    "\n",
    "#we also do the same for our testing numpy arrays.\n",
    "\n",
    "test_labels = df_labels.to_numpy()\n",
    "test_texts = df_texts.to_numpy()\n",
    "\n",
    "#We need to shuffle our training data and labels so that the order in which \n",
    "# the model is trained does not affect its success. \n",
    "\n",
    "random.seed(123)\n",
    "random.shuffle(train_labels)\n",
    "random.seed(123)\n",
    "random.shuffle(train_texts)"
   ]
  },
  {
   "cell_type": "markdown",
   "metadata": {},
   "source": [
    "### Checking the data\n",
    "\n",
    "Since we have cleaned the data and made other changes to it, in addition to shuffling the data, we need to check if the labels match the text in the medical reports. "
   ]
  },
  {
   "cell_type": "code",
   "execution_count": 11,
   "metadata": {},
   "outputs": [
    {
     "name": "stdout",
     "output_type": "stream",
     "text": [
      "b'cardiovascularpulmonary'\n",
      "b'preoperative diagnoses hyperpyrexia leukocytosis ventilator dependent respiratory failure acute pancreatitis postoperative diagnoses hyperpyrexia leukocytosis ventilator dependent respiratory failure acute pancreatitis procedure performed insertion of a right brachial artery arterial catheter insertion of a right subclavian vein triple lumen catheter anesthesia local lidocaine blood loss less than cc complications none indications the patient is a year old caucasian female admitted with severe pancreatitis she was severely dehydrated and necessitated some fluid boluses the patient became hypotensive required many fluid boluses became very anasarcic and had difficulty with breathing and became hypoxic she required intubation and has been ventilator dependent in the intensive care since that time the patient developed very high temperatures as well as leukocytosis her lines required being changed procedure right brachial arterial line the patient s right arm was prepped and draped in the usual sterile fashion there was a good brachial pulse palpated the artery was cannulated with the provided needle and the kit there was good arterial blood return noted immediately on the first stick the seldinger wire was inserted through the needle to cannulate the right brachial artery without difficulty the needle was removed and a catheter was inserted over the seldinger wire to cannulate the brachial artery the femoral catheter was used in this case secondary to the patient s severe edema and anasarca we did not feel that the shorter catheter would provide enough length the catheter was connected to the system and flushed without difficulty a good waveform was noted the catheter was sutured into place with silk suture and opsite dressing was placed over this right subclavian triple lumen catheter the patient was prepped and draped in the usual sterile fashion xylocaine was used to anesthetize an area just inferior and lateral to the angle of the clavicle using the anesthetic needle we checked down to the soft tissues anesthetizing as we proceeded to the angle of the clavicle this was also anesthetized next a gauge thin walled needle was used following the same track to the angle of clavicle we roughed the needle down off the clavicle and directed it towards the sternal notch there was good venous return noted immediately the syringe was removed and a seldinger guidewire was inserted through the needle to cannulate the vein the needle was then removed a small skin nick was made with a blade scalpel and the provided dilator was used to dilate the skin soft tissue and vein next the triple lumen catheter was inserted over the guidewire without difficulty the guidewire was removed all the ports aspirated and flushed without difficulty the catheter was sutured into place with silk suture and a sterile opsite dressing was also applied the patient tolerated the above procedures well a chest x ray has been ordered however it has not been completed at this time this will be checked and documented in the progress notes '\n"
     ]
    }
   ],
   "source": [
    "print(train_labels[123])\n",
    "print(train_texts[123])"
   ]
  },
  {
   "cell_type": "markdown",
   "metadata": {},
   "source": [
    "## Vectorizing labels\n",
    "\n"
   ]
  },
  {
   "cell_type": "markdown",
   "metadata": {},
   "source": [
    "## Saving and splitting the numpy sets\n",
    "\n",
    "In order to correctly work with our numpy arrays and not run into the issue of training our model with part of the validation set we need to make sure we're saving the training and validation data so we're not acidentally mess up our machine learning model. \n",
    "\n",
    "Before we do that we need to split our training data into \n"
   ]
  },
  {
   "cell_type": "markdown",
   "metadata": {},
   "source": [
    "It seems like the label of the data matches the data of the text precisely. \n",
    "We can continue on with the rest of the data modelling"
   ]
  },
  {
   "cell_type": "markdown",
   "metadata": {},
   "source": [
    "## Collecting the key metrics\n",
    "\n",
    "In order to characterize out text classification problem, we need to collect the following metrics. \n",
    "\n",
    "1. Number of samples: Total number of examples you have in the data.\n",
    "\n",
    "2. Number of classes: Total number of topics or categories in the data.\n",
    "\n",
    "3. Number of samples per class: Number of samples per class (topic/category). In a balanced dataset, all classes will have a similar number of samples; in an imbalanced dataset, the number of samples in each class will vary widely.\n",
    "\n",
    "4. Number of words per sample: Median number of words in one sample.\n",
    "\n",
    "5. Frequency distribution of words: Distribution showing the frequency (number of occurrences) of each word in the dataset.\n",
    "\n",
    "6. Distribution of sample length: Distribution showing the number of words per sample in the dataset.\n"
   ]
  },
  {
   "cell_type": "markdown",
   "metadata": {},
   "source": [
    "We can figure the above out by utilizing code from: `https://github.com/google/eng-edu/blob/main/ml/guides/text_classification/explore_data.py` [DO THIS LATER]"
   ]
  },
  {
   "cell_type": "markdown",
   "metadata": {},
   "source": [
    "## Exploring the data"
   ]
  },
  {
   "cell_type": "code",
   "execution_count": 60,
   "metadata": {},
   "outputs": [],
   "source": [
    "#it is important we check and explore the data\n",
    "\n",
    "def get_num_words_per_sample(sample_texts):\n",
    "    \"\"\"Returns the median number of words per sample given corpus.\n",
    "\n",
    "    # Arguments\n",
    "        sample_texts: list, sample texts.\n",
    "\n",
    "    # Returns\n",
    "        int, median number of words per sample.\n",
    "    \"\"\"\n",
    "    num_words = [len(s.split()) for s in sample_texts]\n",
    "    return np.median(num_words)\n",
    "\n",
    "def plot_sample_length_distribution(sample_texts):\n",
    "    \"\"\"Plots the sample length distribution.\n",
    "\n",
    "    # Arguments\n",
    "        samples_texts: list, sample texts.\n",
    "    \"\"\"\n",
    "    plt.hist([len(s) for s in sample_texts], 50)\n",
    "    plt.xlabel('Length of a sample')\n",
    "    plt.ylabel('Number of samples')\n",
    "    plt.title('Sample length distribution')\n",
    "    plt.show()\n",
    "    "
   ]
  },
  {
   "cell_type": "code",
   "execution_count": 68,
   "metadata": {},
   "outputs": [
    {
     "name": "stdout",
     "output_type": "stream",
     "text": [
      "1.0\n"
     ]
    },
    {
     "data": {
      "image/png": "[encoded data removed]",
      "text/plain": [
       "<Figure size 432x288 with 1 Axes>"
      ]
     },
     "metadata": {
      "needs_background": "light"
     },
     "output_type": "display_data"
    }
   ],
   "source": [
    "print(get_num_words_per_sample(train_labels))\n",
    "plot_sample_length_distribution(train_labels)"
   ]
  },
  {
   "cell_type": "code",
   "execution_count": 62,
   "metadata": {},
   "outputs": [
    {
     "data": {
      "image/png": "[encoded data removed]",
      "text/plain": [
       "<Figure size 432x288 with 1 Axes>"
      ]
     },
     "metadata": {
      "needs_background": "light"
     },
     "output_type": "display_data"
    }
   ],
   "source": [
    "get_num_words_per_sample(train_texts)\n",
    "plot_sample_length_distribution(train_texts)"
   ]
  },
  {
   "cell_type": "markdown",
   "metadata": {},
   "source": [
    "## Choosing a Model\n",
    "\n",
    "\n",
    "Algorithm for Data Preparation and Model Building\n",
    "\n",
    "1. Calculate the number of samples/number of words per sample ratio.\n",
    "2. If this ratio is less than 1500, tokenize the text as n-grams and use a simple multi-layer perceptron (MLP) model to classify them (left branch in the flowchart below):\n",
    "      a. Split the samples into word n-grams; convert the n-grams into vectors.\n",
    "      b. Score the importance of the vectors and then select the top 20K using the scores.\n",
    "      c. Build an MLP model.\n",
    "3. If the ratio is greater than 1500, tokenize the text as sequences and use a\n",
    "   sepCNN model to classify them (right branch in the flowchart below):\n",
    "      a. Split the samples into words; select the top 20K words based on their  frequency.\n",
    "      b. Convert the samples into word sequence vectors.\n",
    "      c. If the original number of samples/number of words per sample ratio is less\n",
    "     than 15K, using a fine-tuned pre-trained embedding with the sepCNN\n",
    "     model will likely provide the best results.\n",
    "4. Measure the model performance with different hyperparameter values to find\n",
    "   the best model configuration for the dataset.\n",
    "\n",
    "\"From our experiments, we have observed that the ratio of “number of samples” (S) to “number of words per sample” (W) correlates with which model performs well.\" - Some google Dev\n",
    "\n",
    "We can see that the number of samples to number of words per sample is defnitly <1500 so therefore we should consider Multi layer perceptrons that take n-gram as input as a data model. Also called MLP (no relation to the show)\n",
    "\n"
   ]
  },
  {
   "cell_type": "markdown",
   "metadata": {},
   "source": [
    "## Preparing the data - Sample Vectorization\n",
    "\n",
    "In order for the data to be fed into the model, it needs to be tranformed into something the model can understand. \n",
    "\n",
    "We do not want any information associated with the ordering of samples to influence the relationship between texts and labels, that's why we have shuffled the training data in during the process of transferring it to numpy arrays. And made sure that both the training and the validation set were shuffled in the same manner. \n",
    "\n",
    "Another thing we can do is to split our dataset into a 80 to 20 ration where 80% is our training set and 20 % is our validation set. \n",
    "\n",
    "The machine learning algorithm take numbers as inputs, this means that we will need to convert the text and the labels into numerical vectors. There are two steps to this process: \n",
    "\n",
    "1. Tokenization: Divide the texts into words or smaller sub-texts\n",
    "2. Vectorization: Define a good numerical measure to characterize these texts.\n",
    "\n",
    "To proceed with building our model and transforming our dataset into machine data, we will take the follwoing steps: \n",
    "\n",
    "1. Tokenize text samples into word uni+bigrams,\n",
    "2. Vectorize using tf-idf encoding,\n",
    "3. Select only the top 20,000 features from the vector of tokens by discarding tokens that appear fewer than 2 times and using f_classif to calculate feature importance.\n"
   ]
  },
  {
   "cell_type": "code",
   "execution_count": 70,
   "metadata": {},
   "outputs": [],
   "source": [
    "#using code-sample from: https://developers.google.com/machine-learning/guides/text-classification/step-3\n",
    "\n",
    "#Using Scikit-learn libraries\n",
    "from sklearn.feature_extraction.text import TfidfVectorizer\n",
    "from sklearn.feature_selection import SelectKBest\n",
    "from sklearn.feature_selection import f_classif\n",
    "\n",
    "# Vectorization parameters\n",
    "# Range (inclusive) of n-gram sizes for tokenizing text.\n",
    "NGRAM_RANGE = (1, 2)\n",
    "\n",
    "# Limit on the number of features. We use the top 20K features.\n",
    "TOP_K = 20000\n",
    "\n",
    "# Whether text should be split into word or character n-grams.\n",
    "# One of 'word', 'char'.\n",
    "TOKEN_MODE = 'word'\n",
    "\n",
    "# Minimum document/corpus frequency below which a token will be discarded.\n",
    "MIN_DOCUMENT_FREQUENCY = 2\n",
    "\n",
    "#This vectorization model requires that you have 80% training text and 20% valuation texts.\n",
    "#But we are going to disregard and use 100% of valuation texts\n",
    "def ngram_vectorize(train_texts, train_labels, val_texts):\n",
    "    \"\"\"Vectorizes texts as n-gram vectors.\n",
    "\n",
    "    1 text = 1 tf-idf vector the length of vocabulary of unigrams + bigrams.\n",
    "\n",
    "    # Arguments\n",
    "        train_texts: list, training text strings.\n",
    "        train_labels: np.ndarray, training labels.\n",
    "        val_texts: list, validation text strings.\n",
    "\n",
    "    # Returns\n",
    "        x_train, x_val: vectorized training and validation texts\n",
    "    \"\"\"\n",
    "    # Create keyword arguments to pass to the 'tf-idf' vectorizer.\n",
    "    kwargs = {\n",
    "            'ngram_range': NGRAM_RANGE,  # Use 1-grams + 2-grams.\n",
    "            'dtype': 'int32',\n",
    "            'strip_accents': 'unicode',\n",
    "            'decode_error': 'replace',\n",
    "            'analyzer': TOKEN_MODE,  # Split text into word tokens.\n",
    "            'min_df': MIN_DOCUMENT_FREQUENCY,\n",
    "    }\n",
    "    vectorizer = TfidfVectorizer(**kwargs)\n",
    "\n",
    "    # Learn vocabulary from training texts and vectorize training texts.\n",
    "    x_train = vectorizer.fit_transform(train_texts)\n",
    "\n",
    "    # Vectorize validation texts.\n",
    "    x_val = vectorizer.transform(val_texts)\n",
    "\n",
    "    # Select top 'k' of the vectorized features.\n",
    "    selector = SelectKBest(f_classif, k=min(TOP_K, x_train.shape[1]))\n",
    "    selector.fit(x_train, train_labels)\n",
    "    x_train = selector.transform(x_train).astype('float32')\n",
    "    x_val = selector.transform(x_val).astype('float32')\n",
    "    return x_train, x_val"
   ]
  },
  {
   "cell_type": "markdown",
   "metadata": {},
   "source": [
    "## Building, Training and Evaluating our model\n",
    "\n",
    "Now, it’s time to write our classification algorithm and train it. We will use TensorFlow with the tf.keras API for this.\n",
    "\n",
    "Building machine learning models with Keras is all about assembling together layers, data-processing building blocks"
   ]
  },
  {
   "cell_type": "code",
   "execution_count": null,
   "metadata": {},
   "outputs": [],
   "source": []
  }
 ],
 "metadata": {
  "kernelspec": {
   "display_name": "Python 3",
   "language": "python",
   "name": "python3"
  },
  "language_info": {
   "codemirror_mode": {
    "name": "ipython",
    "version": 3
   },
   "file_extension": ".py",
   "mimetype": "text/x-python",
   "name": "python",
   "nbconvert_exporter": "python",
   "pygments_lexer": "ipython3",
   "version": "3.8.3"
  }
 },
 "nbformat": 4,
 "nbformat_minor": 4
}
